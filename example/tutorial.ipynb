{
 "cells": [
  {
   "cell_type": "markdown",
   "metadata": {},
   "source": [
    "## GLHF Tutorial"
   ]
  },
  {
   "cell_type": "markdown",
   "metadata": {},
   "source": [
    "Before you start, please read the README.md file first."
   ]
  },
  {
   "cell_type": "markdown",
   "metadata": {},
   "source": [
    "Despite the lack of extensive documentation in this project, it is well-typed. This makes static type checkers and hover information boxes especially helpful when using editors or IDEs like VSCode or PyCharm. Take advantage of these tools to understand and navigate the codebase more efficiently."
   ]
  },
  {
   "cell_type": "markdown",
   "metadata": {},
   "source": [
    "## Minimal Example of a SurrenderBot"
   ]
  },
  {
   "cell_type": "code",
   "execution_count": 2,
   "metadata": {},
   "outputs": [],
   "source": [
    "from secrets import token_urlsafe\n",
    "\n",
    "from glhf.base import Bot, ClientProtocol\n",
    "\n",
    "\n",
    "class SurrenderBot(Bot):\n",
    "    \"\"\"\n",
    "    A bot that surrenders the game after a certain number of turns.\n",
    "    \"\"\"\n",
    "\n",
    "    async def run(self, client: ClientProtocol) -> None:\n",
    "        # Join the default room or a random room if no default room is specified.\n",
    "        client.join_private(self.default_room or token_urlsafe(3))\n",
    "\n",
    "        # Listen for queue updates and send a force start request.\n",
    "        async for data in self.queue_update:\n",
    "            if not data[\"isForcing\"]:\n",
    "                client.set_force_start(True)\n",
    "\n",
    "        # Listen for game updates and surrender after 50 turns.\n",
    "        async for data in self.game_update:\n",
    "            if data[\"turn\"] == 1:\n",
    "                client.surrender()\n",
    "\n",
    "        # Get the game result\n",
    "        if self.game_won.get():\n",
    "            print(\"win\")\n",
    "        elif self.game_lost.get():\n",
    "            print(\"lose\")\n",
    "        else:\n",
    "            print(\"never\")"
   ]
  },
  {
   "cell_type": "markdown",
   "metadata": {},
   "source": [
    "## How to Run Your Bot?"
   ]
  },
  {
   "cell_type": "markdown",
   "metadata": {},
   "source": [
    "### With Programming Style\n",
    "- Messy imports, but clear type hints"
   ]
  },
  {
   "cell_type": "code",
   "execution_count": 3,
   "metadata": {},
   "outputs": [
    {
     "name": "stdout",
     "output_type": "stream",
     "text": [
      "https://generals.io/games/BKjx\n",
      "lose\n"
     ]
    }
   ],
   "source": [
    "import asyncio\n",
    "from glhf.gui import PygameGUI\n",
    "from glhf.server import SocketioServer\n",
    "from glhf.app import start\n",
    "\n",
    "\n",
    "def main(is_jupyter: bool = True) -> None:\n",
    "    USERID = \"123\"\n",
    "    USERNAME = \"[Bot]123\"\n",
    "\n",
    "    server = SocketioServer()\n",
    "    bot = SurrenderBot(USERID, USERNAME)\n",
    "    gui = PygameGUI()\n",
    "\n",
    "    gui.register(bot)\n",
    "\n",
    "    # Use the low-level API due to limitations of Jupyter Notebook.\n",
    "\n",
    "    if is_jupyter:\n",
    "        coro = start(server, [bot], gui)\n",
    "        loop = asyncio.get_event_loop()\n",
    "\n",
    "        if loop.is_running():\n",
    "            task = loop.create_task(coro)\n",
    "            task.add_done_callback(lambda t: t.result())\n",
    "        else:\n",
    "            loop.run_until_complete(coro)\n",
    "        return\n",
    "\n",
    "    # Simply use the high-level API in regular scripts.\n",
    "\n",
    "    asyncio.run(start(server, [bot], gui))\n",
    "\n",
    "\n",
    "if __name__ == \"__main__\":\n",
    "    main()\n"
   ]
  },
  {
   "cell_type": "markdown",
   "metadata": {},
   "source": [
    "### With the `APP` class\n",
    "\n",
    "- Minimal imports, but potential issues\n",
    "- It's primarily designed for CLI interactions"
   ]
  },
  {
   "cell_type": "code",
   "execution_count": 11,
   "metadata": {},
   "outputs": [
    {
     "data": {
      "text/html": [
       "<pre style=\"white-space:pre;overflow-x:auto;line-height:normal;font-family:Menlo,'DejaVu Sans Mono',consolas,'Courier New',monospace\"><span style=\"color: #008000; text-decoration-color: #008000; font-weight: bold\">+ </span><span style=\"color: #800080; text-decoration-color: #800080; font-weight: bold\">SurrenderBot</span><span style=\"color: #008000; text-decoration-color: #008000; font-weight: bold\">(</span><span style=\"color: #808000; text-decoration-color: #808000; font-weight: bold\">id</span><span style=\"color: #008000; text-decoration-color: #008000; font-weight: bold\">=</span><span style=\"color: #008000; text-decoration-color: #008000\">'123'</span><span style=\"color: #008000; text-decoration-color: #008000; font-weight: bold\">, </span><span style=\"color: #808000; text-decoration-color: #808000; font-weight: bold\">name</span><span style=\"color: #008000; text-decoration-color: #008000; font-weight: bold\">=</span><span style=\"color: #008000; text-decoration-color: #008000\">'[Bot]123'</span><span style=\"color: #008000; text-decoration-color: #008000; font-weight: bold\">, </span><span style=\"color: #808000; text-decoration-color: #808000; font-weight: bold\">default_room</span><span style=\"color: #008000; text-decoration-color: #008000; font-weight: bold\">=</span><span style=\"color: #008000; text-decoration-color: #008000\">''</span><span style=\"color: #008000; text-decoration-color: #008000; font-weight: bold\">)</span>\n",
       "</pre>\n"
      ],
      "text/plain": [
       "\u001b[1;32m+ \u001b[0m\u001b[1;35mSurrenderBot\u001b[0m\u001b[1;32m(\u001b[0m\u001b[1;33mid\u001b[0m\u001b[1;32m=\u001b[0m\u001b[32m'123'\u001b[0m\u001b[1;32m, \u001b[0m\u001b[1;33mname\u001b[0m\u001b[1;32m=\u001b[0m\u001b[32m'\u001b[0m\u001b[32m[\u001b[0m\u001b[32mBot\u001b[0m\u001b[32m]\u001b[0m\u001b[32m123'\u001b[0m\u001b[1;32m, \u001b[0m\u001b[1;33mdefault_room\u001b[0m\u001b[1;32m=\u001b[0m\u001b[32m''\u001b[0m\u001b[1;32m)\u001b[0m\n"
      ]
     },
     "metadata": {},
     "output_type": "display_data"
    },
    {
     "name": "stdout",
     "output_type": "stream",
     "text": [
      "https://generals.io/games/x9x2\n",
      "lose\n"
     ]
    }
   ],
   "source": [
    "from glhf.app import APP\n",
    "\n",
    "# You should define your bot class in the same file,\n",
    "# or import it from another file.\n",
    "\n",
    "\n",
    "def main() -> None:\n",
    "    # Replace USERID and USERNAME with yours.\n",
    "    USERID = \"123\"\n",
    "    USERNAME = \"[Bot]123\"\n",
    "\n",
    "    # Instantiate the APP class to manage workflow.\n",
    "    app = APP()\n",
    "\n",
    "    # Set server to \"socketio\" for full support.\n",
    "    app.server(\"socketio\")\n",
    "\n",
    "    # Alternatively, choose \"local\" server for limited simulation:\n",
    "    # - 1v1 game starts immediately when set force start\n",
    "    # - no fog of war\n",
    "    # - game stops after 50 turns\n",
    "\n",
    "    # Add the \"SurrenderBot\" to the bot list.\n",
    "    app.bot_add(\"SurrenderBot\", userid=USERID, username=USERNAME)\n",
    "\n",
    "    # Bind GUI to the first one in the bot list.\n",
    "    # Comment out to disable GUI.\n",
    "    app.gui(0)\n",
    "\n",
    "    # Start the game.\n",
    "    # URL printed if using socketio server.\n",
    "    app.start()\n",
    "\n",
    "\n",
    "if __name__ == \"__main__\":\n",
    "    main()\n"
   ]
  },
  {
   "cell_type": "markdown",
   "metadata": {},
   "source": [
    "### With `command` function\n",
    "\n",
    "- Minimal lines of code.\n",
    "- It's a CLI built upon the `APP` class.\n",
    "- Depends on [python-fire](https://github.com/google/python-fire), which is simple to use, but the user experience could be better. Plans are in place to improve this."
   ]
  },
  {
   "cell_type": "code",
   "execution_count": null,
   "metadata": {},
   "outputs": [],
   "source": [
    "from glhf.app import command\n",
    "\n",
    "# You should define your bot class in the same file,\n",
    "# or import it from another file\n",
    "\n",
    "\n",
    "if __name__ == \"__main__\":\n",
    "    # try input \"-- --help\" to see all available commands\n",
    "    # input ctrl+z to exit\n",
    "    # not working in Jupyter Notebook\n",
    "    command()\n"
   ]
  },
  {
   "cell_type": "markdown",
   "metadata": {},
   "source": [
    "## Protocols\n",
    "\n",
    "The output below shows all the methods implemented within the bot and client, which are the key components you'll interact with.\n",
    "\n",
    "If your class structure aligns with the correct protocols, everything should work as expected.\n",
    "\n",
    "These methods are simply interfaces for the official game APIs. If you're not planning to create your own server and client, you can use the ones provided.\n",
    "\n",
    "To learn what a Protocol is, check out [this page](https://docs.python.org/3/library/typing.html#typing.Protocol).\n",
    "\n",
    "For more information on these methods, check out [this page](https://web.archive.org/web/20230112021323/https://dev.generals.io/api)."
   ]
  },
  {
   "cell_type": "code",
   "execution_count": 10,
   "metadata": {},
   "outputs": [
    {
     "data": {
      "text/html": [
       "<pre style=\"white-space:pre;overflow-x:auto;line-height:normal;font-family:Menlo,'DejaVu Sans Mono',consolas,'Courier New',monospace\"><span style=\"color: #000080; text-decoration-color: #000080\">╭────────────────────────────── </span><span style=\"color: #000080; text-decoration-color: #000080; font-weight: bold\">&lt;</span><span style=\"color: #ff00ff; text-decoration-color: #ff00ff; font-weight: bold\">class</span><span style=\"color: #000000; text-decoration-color: #000000\"> </span><span style=\"color: #008000; text-decoration-color: #008000\">'glhf.base.BotProtocol'</span><span style=\"color: #000080; text-decoration-color: #000080; font-weight: bold\">&gt;</span><span style=\"color: #000080; text-decoration-color: #000080\"> ──────────────────────────────╮</span>\n",
       "<span style=\"color: #000080; text-decoration-color: #000080\">│</span> <span style=\"color: #00ffff; text-decoration-color: #00ffff; font-style: italic\">class </span><span style=\"color: #800000; text-decoration-color: #800000; font-weight: bold\">BotProtocol</span><span style=\"font-weight: bold\">(</span>*args, **kwargs<span style=\"font-weight: bold\">)</span>:                                                         <span style=\"color: #000080; text-decoration-color: #000080\">│</span>\n",
       "<span style=\"color: #000080; text-decoration-color: #000080\">│</span>                                                                                             <span style=\"color: #000080; text-decoration-color: #000080\">│</span>\n",
       "<span style=\"color: #000080; text-decoration-color: #000080\">│</span> <span style=\"color: #800080; text-decoration-color: #800080; font-weight: bold\">BotProtocol</span><span style=\"color: #008080; text-decoration-color: #008080; font-weight: bold\">(</span><span style=\"color: #008080; text-decoration-color: #008080\">*args, **kwargs</span><span style=\"color: #008080; text-decoration-color: #008080; font-weight: bold\">)</span>                                                                <span style=\"color: #000080; text-decoration-color: #000080\">│</span>\n",
       "<span style=\"color: #000080; text-decoration-color: #000080\">│</span>                                                                                             <span style=\"color: #000080; text-decoration-color: #000080\">│</span>\n",
       "<span style=\"color: #000080; text-decoration-color: #000080\">│</span>            <span style=\"color: #808000; text-decoration-color: #808000; font-style: italic\">gui</span> = <span style=\"color: #800080; text-decoration-color: #800080; font-style: italic\">None</span>                                                                       <span style=\"color: #000080; text-decoration-color: #000080\">│</span>\n",
       "<span style=\"color: #000080; text-decoration-color: #000080\">│</span>   <span style=\"color: #808000; text-decoration-color: #808000; font-style: italic\">chat_message</span> = <span style=\"color: #00ffff; text-decoration-color: #00ffff; font-style: italic\">def </span><span style=\"color: #800000; text-decoration-color: #800000; font-weight: bold\">chat_message</span><span style=\"font-weight: bold\">(</span>self, chat_room: <span style=\"color: #008000; text-decoration-color: #008000\">'str'</span>, data: <span style=\"color: #008000; text-decoration-color: #008000\">'dict[str, Any]'</span><span style=\"font-weight: bold\">)</span> -&gt; <span style=\"color: #008000; text-decoration-color: #008000\">'Any'</span>: <span style=\"color: #000080; text-decoration-color: #000080\">│</span>\n",
       "<span style=\"color: #000080; text-decoration-color: #000080\">│</span>      <span style=\"color: #808000; text-decoration-color: #808000; font-style: italic\">game_lost</span> = <span style=\"color: #00ffff; text-decoration-color: #00ffff; font-style: italic\">def </span><span style=\"color: #800000; text-decoration-color: #800000; font-weight: bold\">game_lost</span><span style=\"font-weight: bold\">(</span>self<span style=\"font-weight: bold\">)</span> -&gt; <span style=\"color: #008000; text-decoration-color: #008000\">'Any'</span>:                                              <span style=\"color: #000080; text-decoration-color: #000080\">│</span>\n",
       "<span style=\"color: #000080; text-decoration-color: #000080\">│</span>      <span style=\"color: #808000; text-decoration-color: #808000; font-style: italic\">game_over</span> = <span style=\"color: #00ffff; text-decoration-color: #00ffff; font-style: italic\">def </span><span style=\"color: #800000; text-decoration-color: #800000; font-weight: bold\">game_over</span><span style=\"font-weight: bold\">(</span>self<span style=\"font-weight: bold\">)</span> -&gt; <span style=\"color: #008000; text-decoration-color: #008000\">'Any'</span>:                                              <span style=\"color: #000080; text-decoration-color: #000080\">│</span>\n",
       "<span style=\"color: #000080; text-decoration-color: #000080\">│</span>     <span style=\"color: #808000; text-decoration-color: #808000; font-style: italic\">game_start</span> = <span style=\"color: #00ffff; text-decoration-color: #00ffff; font-style: italic\">def </span><span style=\"color: #800000; text-decoration-color: #800000; font-weight: bold\">game_start</span><span style=\"font-weight: bold\">(</span>self, data: <span style=\"color: #008000; text-decoration-color: #008000\">'GameStartDict'</span><span style=\"font-weight: bold\">)</span> -&gt; <span style=\"color: #008000; text-decoration-color: #008000\">'Any'</span>:                      <span style=\"color: #000080; text-decoration-color: #000080\">│</span>\n",
       "<span style=\"color: #000080; text-decoration-color: #000080\">│</span>    <span style=\"color: #808000; text-decoration-color: #808000; font-style: italic\">game_update</span> = <span style=\"color: #00ffff; text-decoration-color: #00ffff; font-style: italic\">def </span><span style=\"color: #800000; text-decoration-color: #800000; font-weight: bold\">game_update</span><span style=\"font-weight: bold\">(</span>self, data: <span style=\"color: #008000; text-decoration-color: #008000\">'GameUpdateDict'</span><span style=\"font-weight: bold\">)</span> -&gt; <span style=\"color: #008000; text-decoration-color: #008000\">'Any'</span>:                    <span style=\"color: #000080; text-decoration-color: #000080\">│</span>\n",
       "<span style=\"color: #000080; text-decoration-color: #000080\">│</span>       <span style=\"color: #808000; text-decoration-color: #808000; font-style: italic\">game_won</span> = <span style=\"color: #00ffff; text-decoration-color: #00ffff; font-style: italic\">def </span><span style=\"color: #800000; text-decoration-color: #800000; font-weight: bold\">game_won</span><span style=\"font-weight: bold\">(</span>self<span style=\"font-weight: bold\">)</span> -&gt; <span style=\"color: #008000; text-decoration-color: #008000\">'Any'</span>:                                               <span style=\"color: #000080; text-decoration-color: #000080\">│</span>\n",
       "<span style=\"color: #000080; text-decoration-color: #000080\">│</span>         <span style=\"color: #808000; text-decoration-color: #808000; font-style: italic\">notify</span> = <span style=\"color: #00ffff; text-decoration-color: #00ffff; font-style: italic\">def </span><span style=\"color: #800000; text-decoration-color: #800000; font-weight: bold\">notify</span><span style=\"font-weight: bold\">(</span>self, data: <span style=\"color: #008000; text-decoration-color: #008000\">'Any'</span><span style=\"font-weight: bold\">)</span> -&gt; <span style=\"color: #008000; text-decoration-color: #008000\">'Any'</span>:                                    <span style=\"color: #000080; text-decoration-color: #000080\">│</span>\n",
       "<span style=\"color: #000080; text-decoration-color: #000080\">│</span> <span style=\"color: #808000; text-decoration-color: #808000; font-style: italic\">pre_game_start</span> = <span style=\"color: #00ffff; text-decoration-color: #00ffff; font-style: italic\">def </span><span style=\"color: #800000; text-decoration-color: #800000; font-weight: bold\">pre_game_start</span><span style=\"font-weight: bold\">(</span>self<span style=\"font-weight: bold\">)</span> -&gt; <span style=\"color: #008000; text-decoration-color: #008000\">'Any'</span>:                                         <span style=\"color: #000080; text-decoration-color: #000080\">│</span>\n",
       "<span style=\"color: #000080; text-decoration-color: #000080\">│</span>   <span style=\"color: #808000; text-decoration-color: #808000; font-style: italic\">queue_update</span> = <span style=\"color: #00ffff; text-decoration-color: #00ffff; font-style: italic\">def </span><span style=\"color: #800000; text-decoration-color: #800000; font-weight: bold\">queue_update</span><span style=\"font-weight: bold\">(</span>self, data: <span style=\"color: #008000; text-decoration-color: #008000\">'QueueUpdateDict'</span><span style=\"font-weight: bold\">)</span> -&gt; <span style=\"color: #008000; text-decoration-color: #008000\">'Any'</span>:                  <span style=\"color: #000080; text-decoration-color: #000080\">│</span>\n",
       "<span style=\"color: #000080; text-decoration-color: #000080\">│</span>           <span style=\"color: #808000; text-decoration-color: #808000; font-style: italic\">rank</span> = <span style=\"color: #00ffff; text-decoration-color: #00ffff; font-style: italic\">def </span><span style=\"color: #800000; text-decoration-color: #800000; font-weight: bold\">rank</span><span style=\"font-weight: bold\">(</span>self, data: <span style=\"color: #008000; text-decoration-color: #008000\">'dict[str, int]'</span><span style=\"font-weight: bold\">)</span> -&gt; <span style=\"color: #008000; text-decoration-color: #008000\">'Any'</span>:                           <span style=\"color: #000080; text-decoration-color: #000080\">│</span>\n",
       "<span style=\"color: #000080; text-decoration-color: #000080\">│</span>            <span style=\"color: #808000; text-decoration-color: #808000; font-style: italic\">run</span> = <span style=\"color: #00ffff; text-decoration-color: #00ffff; font-style: italic\">async def </span><span style=\"color: #800000; text-decoration-color: #800000; font-weight: bold\">run</span><span style=\"font-weight: bold\">(</span>self, client: <span style=\"color: #008000; text-decoration-color: #008000\">'ClientProtocol'</span><span style=\"font-weight: bold\">)</span> -&gt; <span style=\"color: #008000; text-decoration-color: #008000\">'None'</span>:                   <span style=\"color: #000080; text-decoration-color: #000080\">│</span>\n",
       "<span style=\"color: #000080; text-decoration-color: #000080\">│</span>          <span style=\"color: #808000; text-decoration-color: #808000; font-style: italic\">stars</span> = <span style=\"color: #00ffff; text-decoration-color: #00ffff; font-style: italic\">def </span><span style=\"color: #800000; text-decoration-color: #800000; font-weight: bold\">stars</span><span style=\"font-weight: bold\">(</span>self, data: <span style=\"color: #008000; text-decoration-color: #008000\">'dict[str, float]'</span><span style=\"font-weight: bold\">)</span> -&gt; <span style=\"color: #008000; text-decoration-color: #008000\">'Any'</span>:                        <span style=\"color: #000080; text-decoration-color: #000080\">│</span>\n",
       "<span style=\"color: #000080; text-decoration-color: #000080\">│</span>          <span style=\"color: #808000; text-decoration-color: #808000; font-style: italic\">start</span> = <span style=\"color: #00ffff; text-decoration-color: #00ffff; font-style: italic\">async def </span><span style=\"color: #800000; text-decoration-color: #800000; font-weight: bold\">start</span><span style=\"font-weight: bold\">(</span>self, server: <span style=\"color: #008000; text-decoration-color: #008000\">'ServerProtocol'</span><span style=\"font-weight: bold\">)</span> -&gt; <span style=\"color: #008000; text-decoration-color: #008000\">'None'</span>:                 <span style=\"color: #000080; text-decoration-color: #000080\">│</span>\n",
       "<span style=\"color: #000080; text-decoration-color: #000080\">╰─────────────────────────────────────────────────────────────────────────────────────────────╯</span>\n",
       "</pre>\n"
      ],
      "text/plain": [
       "\u001b[34m╭─\u001b[0m\u001b[34m─────────────────────────────\u001b[0m\u001b[34m \u001b[0m\u001b[1;34m<\u001b[0m\u001b[1;95mclass\u001b[0m\u001b[39m \u001b[0m\u001b[32m'glhf.base.BotProtocol'\u001b[0m\u001b[1;34m>\u001b[0m\u001b[34m \u001b[0m\u001b[34m─────────────────────────────\u001b[0m\u001b[34m─╮\u001b[0m\n",
       "\u001b[34m│\u001b[0m \u001b[3;96mclass \u001b[0m\u001b[1;31mBotProtocol\u001b[0m\u001b[1m(\u001b[0m*args, **kwargs\u001b[1m)\u001b[0m:                                                         \u001b[34m│\u001b[0m\n",
       "\u001b[34m│\u001b[0m                                                                                             \u001b[34m│\u001b[0m\n",
       "\u001b[34m│\u001b[0m \u001b[1;35mBotProtocol\u001b[0m\u001b[1;36m(\u001b[0m\u001b[36m*args, **kwargs\u001b[0m\u001b[1;36m)\u001b[0m                                                                \u001b[34m│\u001b[0m\n",
       "\u001b[34m│\u001b[0m                                                                                             \u001b[34m│\u001b[0m\n",
       "\u001b[34m│\u001b[0m            \u001b[3;33mgui\u001b[0m = \u001b[3;35mNone\u001b[0m                                                                       \u001b[34m│\u001b[0m\n",
       "\u001b[34m│\u001b[0m   \u001b[3;33mchat_message\u001b[0m = \u001b[3;96mdef \u001b[0m\u001b[1;31mchat_message\u001b[0m\u001b[1m(\u001b[0mself, chat_room: \u001b[32m'str'\u001b[0m, data: \u001b[32m'dict\u001b[0m\u001b[32m[\u001b[0m\u001b[32mstr, Any\u001b[0m\u001b[32m]\u001b[0m\u001b[32m'\u001b[0m\u001b[1m)\u001b[0m -> \u001b[32m'Any'\u001b[0m: \u001b[34m│\u001b[0m\n",
       "\u001b[34m│\u001b[0m      \u001b[3;33mgame_lost\u001b[0m = \u001b[3;96mdef \u001b[0m\u001b[1;31mgame_lost\u001b[0m\u001b[1m(\u001b[0mself\u001b[1m)\u001b[0m -> \u001b[32m'Any'\u001b[0m:                                              \u001b[34m│\u001b[0m\n",
       "\u001b[34m│\u001b[0m      \u001b[3;33mgame_over\u001b[0m = \u001b[3;96mdef \u001b[0m\u001b[1;31mgame_over\u001b[0m\u001b[1m(\u001b[0mself\u001b[1m)\u001b[0m -> \u001b[32m'Any'\u001b[0m:                                              \u001b[34m│\u001b[0m\n",
       "\u001b[34m│\u001b[0m     \u001b[3;33mgame_start\u001b[0m = \u001b[3;96mdef \u001b[0m\u001b[1;31mgame_start\u001b[0m\u001b[1m(\u001b[0mself, data: \u001b[32m'GameStartDict'\u001b[0m\u001b[1m)\u001b[0m -> \u001b[32m'Any'\u001b[0m:                      \u001b[34m│\u001b[0m\n",
       "\u001b[34m│\u001b[0m    \u001b[3;33mgame_update\u001b[0m = \u001b[3;96mdef \u001b[0m\u001b[1;31mgame_update\u001b[0m\u001b[1m(\u001b[0mself, data: \u001b[32m'GameUpdateDict'\u001b[0m\u001b[1m)\u001b[0m -> \u001b[32m'Any'\u001b[0m:                    \u001b[34m│\u001b[0m\n",
       "\u001b[34m│\u001b[0m       \u001b[3;33mgame_won\u001b[0m = \u001b[3;96mdef \u001b[0m\u001b[1;31mgame_won\u001b[0m\u001b[1m(\u001b[0mself\u001b[1m)\u001b[0m -> \u001b[32m'Any'\u001b[0m:                                               \u001b[34m│\u001b[0m\n",
       "\u001b[34m│\u001b[0m         \u001b[3;33mnotify\u001b[0m = \u001b[3;96mdef \u001b[0m\u001b[1;31mnotify\u001b[0m\u001b[1m(\u001b[0mself, data: \u001b[32m'Any'\u001b[0m\u001b[1m)\u001b[0m -> \u001b[32m'Any'\u001b[0m:                                    \u001b[34m│\u001b[0m\n",
       "\u001b[34m│\u001b[0m \u001b[3;33mpre_game_start\u001b[0m = \u001b[3;96mdef \u001b[0m\u001b[1;31mpre_game_start\u001b[0m\u001b[1m(\u001b[0mself\u001b[1m)\u001b[0m -> \u001b[32m'Any'\u001b[0m:                                         \u001b[34m│\u001b[0m\n",
       "\u001b[34m│\u001b[0m   \u001b[3;33mqueue_update\u001b[0m = \u001b[3;96mdef \u001b[0m\u001b[1;31mqueue_update\u001b[0m\u001b[1m(\u001b[0mself, data: \u001b[32m'QueueUpdateDict'\u001b[0m\u001b[1m)\u001b[0m -> \u001b[32m'Any'\u001b[0m:                  \u001b[34m│\u001b[0m\n",
       "\u001b[34m│\u001b[0m           \u001b[3;33mrank\u001b[0m = \u001b[3;96mdef \u001b[0m\u001b[1;31mrank\u001b[0m\u001b[1m(\u001b[0mself, data: \u001b[32m'dict\u001b[0m\u001b[32m[\u001b[0m\u001b[32mstr, int\u001b[0m\u001b[32m]\u001b[0m\u001b[32m'\u001b[0m\u001b[1m)\u001b[0m -> \u001b[32m'Any'\u001b[0m:                           \u001b[34m│\u001b[0m\n",
       "\u001b[34m│\u001b[0m            \u001b[3;33mrun\u001b[0m = \u001b[3;96masync def \u001b[0m\u001b[1;31mrun\u001b[0m\u001b[1m(\u001b[0mself, client: \u001b[32m'ClientProtocol'\u001b[0m\u001b[1m)\u001b[0m -> \u001b[32m'None'\u001b[0m:                   \u001b[34m│\u001b[0m\n",
       "\u001b[34m│\u001b[0m          \u001b[3;33mstars\u001b[0m = \u001b[3;96mdef \u001b[0m\u001b[1;31mstars\u001b[0m\u001b[1m(\u001b[0mself, data: \u001b[32m'dict\u001b[0m\u001b[32m[\u001b[0m\u001b[32mstr, float\u001b[0m\u001b[32m]\u001b[0m\u001b[32m'\u001b[0m\u001b[1m)\u001b[0m -> \u001b[32m'Any'\u001b[0m:                        \u001b[34m│\u001b[0m\n",
       "\u001b[34m│\u001b[0m          \u001b[3;33mstart\u001b[0m = \u001b[3;96masync def \u001b[0m\u001b[1;31mstart\u001b[0m\u001b[1m(\u001b[0mself, server: \u001b[32m'ServerProtocol'\u001b[0m\u001b[1m)\u001b[0m -> \u001b[32m'None'\u001b[0m:                 \u001b[34m│\u001b[0m\n",
       "\u001b[34m╰─────────────────────────────────────────────────────────────────────────────────────────────╯\u001b[0m\n"
      ]
     },
     "metadata": {},
     "output_type": "display_data"
    },
    {
     "data": {
      "text/html": [
       "<pre style=\"white-space:pre;overflow-x:auto;line-height:normal;font-family:Menlo,'DejaVu Sans Mono',consolas,'Courier New',monospace\"><span style=\"color: #000080; text-decoration-color: #000080\">╭──────────────────────────────── </span><span style=\"color: #000080; text-decoration-color: #000080; font-weight: bold\">&lt;</span><span style=\"color: #ff00ff; text-decoration-color: #ff00ff; font-weight: bold\">class</span><span style=\"color: #000000; text-decoration-color: #000000\"> </span><span style=\"color: #008000; text-decoration-color: #008000\">'glhf.base.ClientProtocol'</span><span style=\"color: #000080; text-decoration-color: #000080; font-weight: bold\">&gt;</span><span style=\"color: #000080; text-decoration-color: #000080\"> ─────────────────────────────────╮</span>\n",
       "<span style=\"color: #000080; text-decoration-color: #000080\">│</span> <span style=\"color: #00ffff; text-decoration-color: #00ffff; font-style: italic\">class </span><span style=\"color: #800000; text-decoration-color: #800000; font-weight: bold\">ClientProtocol</span><span style=\"font-weight: bold\">(</span>*args, **kwargs<span style=\"font-weight: bold\">)</span>:                                                              <span style=\"color: #000080; text-decoration-color: #000080\">│</span>\n",
       "<span style=\"color: #000080; text-decoration-color: #000080\">│</span>                                                                                                     <span style=\"color: #000080; text-decoration-color: #000080\">│</span>\n",
       "<span style=\"color: #000080; text-decoration-color: #000080\">│</span> <span style=\"color: #008080; text-decoration-color: #008080\">Base class for protocol classes.</span>                                                                    <span style=\"color: #000080; text-decoration-color: #000080\">│</span>\n",
       "<span style=\"color: #000080; text-decoration-color: #000080\">│</span>                                                                                                     <span style=\"color: #000080; text-decoration-color: #000080\">│</span>\n",
       "<span style=\"color: #000080; text-decoration-color: #000080\">│</span>          <span style=\"color: #808000; text-decoration-color: #808000; font-style: italic\">attack</span> = <span style=\"color: #00ffff; text-decoration-color: #00ffff; font-style: italic\">def </span><span style=\"color: #800000; text-decoration-color: #800000; font-weight: bold\">attack</span><span style=\"font-weight: bold\">(</span>self, start: <span style=\"color: #008000; text-decoration-color: #008000\">'int'</span>, end: <span style=\"color: #008000; text-decoration-color: #008000\">'int'</span>, is50: <span style=\"color: #008000; text-decoration-color: #008000\">'bool'</span><span style=\"font-weight: bold\">)</span> -&gt; <span style=\"color: #008000; text-decoration-color: #008000\">'asyncio.Task[None]'</span>: <span style=\"color: #000080; text-decoration-color: #000080\">│</span>\n",
       "<span style=\"color: #000080; text-decoration-color: #000080\">│</span>    <span style=\"color: #808000; text-decoration-color: #808000; font-style: italic\">join_private</span> = <span style=\"color: #00ffff; text-decoration-color: #00ffff; font-style: italic\">def </span><span style=\"color: #800000; text-decoration-color: #800000; font-weight: bold\">join_private</span><span style=\"font-weight: bold\">(</span>self, queue_id: <span style=\"color: #008000; text-decoration-color: #008000\">'str'</span><span style=\"font-weight: bold\">)</span> -&gt; <span style=\"color: #008000; text-decoration-color: #008000\">'asyncio.Task[None]'</span>:                  <span style=\"color: #000080; text-decoration-color: #000080\">│</span>\n",
       "<span style=\"color: #000080; text-decoration-color: #000080\">│</span>      <span style=\"color: #808000; text-decoration-color: #808000; font-style: italic\">leave_game</span> = <span style=\"color: #00ffff; text-decoration-color: #00ffff; font-style: italic\">def </span><span style=\"color: #800000; text-decoration-color: #800000; font-weight: bold\">leave_game</span><span style=\"font-weight: bold\">(</span>self<span style=\"font-weight: bold\">)</span> -&gt; <span style=\"color: #008000; text-decoration-color: #008000\">'asyncio.Task[None]'</span>:                                     <span style=\"color: #000080; text-decoration-color: #000080\">│</span>\n",
       "<span style=\"color: #000080; text-decoration-color: #000080\">│</span> <span style=\"color: #808000; text-decoration-color: #808000; font-style: italic\">set_force_start</span> = <span style=\"color: #00ffff; text-decoration-color: #00ffff; font-style: italic\">def </span><span style=\"color: #800000; text-decoration-color: #800000; font-weight: bold\">set_force_start</span><span style=\"font-weight: bold\">(</span>self, do_force: <span style=\"color: #008000; text-decoration-color: #008000\">'bool'</span><span style=\"font-weight: bold\">)</span> -&gt; <span style=\"color: #008000; text-decoration-color: #008000\">'asyncio.Task[None]'</span>:              <span style=\"color: #000080; text-decoration-color: #000080\">│</span>\n",
       "<span style=\"color: #000080; text-decoration-color: #000080\">│</span>    <span style=\"color: #808000; text-decoration-color: #808000; font-style: italic\">set_username</span> = <span style=\"color: #00ffff; text-decoration-color: #00ffff; font-style: italic\">def </span><span style=\"color: #800000; text-decoration-color: #800000; font-weight: bold\">set_username</span><span style=\"font-weight: bold\">(</span>self<span style=\"font-weight: bold\">)</span> -&gt; <span style=\"color: #008000; text-decoration-color: #008000\">'asyncio.Task[None]'</span>:                                   <span style=\"color: #000080; text-decoration-color: #000080\">│</span>\n",
       "<span style=\"color: #000080; text-decoration-color: #000080\">│</span>  <span style=\"color: #808000; text-decoration-color: #808000; font-style: italic\">stars_and_rank</span> = <span style=\"color: #00ffff; text-decoration-color: #00ffff; font-style: italic\">def </span><span style=\"color: #800000; text-decoration-color: #800000; font-weight: bold\">stars_and_rank</span><span style=\"font-weight: bold\">(</span>self<span style=\"font-weight: bold\">)</span> -&gt; <span style=\"color: #008000; text-decoration-color: #008000\">'asyncio.Task[None]'</span>:                                 <span style=\"color: #000080; text-decoration-color: #000080\">│</span>\n",
       "<span style=\"color: #000080; text-decoration-color: #000080\">│</span>       <span style=\"color: #808000; text-decoration-color: #808000; font-style: italic\">surrender</span> = <span style=\"color: #00ffff; text-decoration-color: #00ffff; font-style: italic\">def </span><span style=\"color: #800000; text-decoration-color: #800000; font-weight: bold\">surrender</span><span style=\"font-weight: bold\">(</span>self<span style=\"font-weight: bold\">)</span> -&gt; <span style=\"color: #008000; text-decoration-color: #008000\">'asyncio.Task[None]'</span>:                                      <span style=\"color: #000080; text-decoration-color: #000080\">│</span>\n",
       "<span style=\"color: #000080; text-decoration-color: #000080\">╰─────────────────────────────────────────────────────────────────────────────────────────────────────╯</span>\n",
       "</pre>\n"
      ],
      "text/plain": [
       "\u001b[34m╭─\u001b[0m\u001b[34m───────────────────────────────\u001b[0m\u001b[34m \u001b[0m\u001b[1;34m<\u001b[0m\u001b[1;95mclass\u001b[0m\u001b[39m \u001b[0m\u001b[32m'glhf.base.ClientProtocol'\u001b[0m\u001b[1;34m>\u001b[0m\u001b[34m \u001b[0m\u001b[34m────────────────────────────────\u001b[0m\u001b[34m─╮\u001b[0m\n",
       "\u001b[34m│\u001b[0m \u001b[3;96mclass \u001b[0m\u001b[1;31mClientProtocol\u001b[0m\u001b[1m(\u001b[0m*args, **kwargs\u001b[1m)\u001b[0m:                                                              \u001b[34m│\u001b[0m\n",
       "\u001b[34m│\u001b[0m                                                                                                     \u001b[34m│\u001b[0m\n",
       "\u001b[34m│\u001b[0m \u001b[36mBase class for protocol classes.\u001b[0m                                                                    \u001b[34m│\u001b[0m\n",
       "\u001b[34m│\u001b[0m                                                                                                     \u001b[34m│\u001b[0m\n",
       "\u001b[34m│\u001b[0m          \u001b[3;33mattack\u001b[0m = \u001b[3;96mdef \u001b[0m\u001b[1;31mattack\u001b[0m\u001b[1m(\u001b[0mself, start: \u001b[32m'int'\u001b[0m, end: \u001b[32m'int'\u001b[0m, is50: \u001b[32m'bool'\u001b[0m\u001b[1m)\u001b[0m -> \u001b[32m'asyncio.Task\u001b[0m\u001b[32m[\u001b[0m\u001b[32mNone\u001b[0m\u001b[32m]\u001b[0m\u001b[32m'\u001b[0m: \u001b[34m│\u001b[0m\n",
       "\u001b[34m│\u001b[0m    \u001b[3;33mjoin_private\u001b[0m = \u001b[3;96mdef \u001b[0m\u001b[1;31mjoin_private\u001b[0m\u001b[1m(\u001b[0mself, queue_id: \u001b[32m'str'\u001b[0m\u001b[1m)\u001b[0m -> \u001b[32m'asyncio.Task\u001b[0m\u001b[32m[\u001b[0m\u001b[32mNone\u001b[0m\u001b[32m]\u001b[0m\u001b[32m'\u001b[0m:                  \u001b[34m│\u001b[0m\n",
       "\u001b[34m│\u001b[0m      \u001b[3;33mleave_game\u001b[0m = \u001b[3;96mdef \u001b[0m\u001b[1;31mleave_game\u001b[0m\u001b[1m(\u001b[0mself\u001b[1m)\u001b[0m -> \u001b[32m'asyncio.Task\u001b[0m\u001b[32m[\u001b[0m\u001b[32mNone\u001b[0m\u001b[32m]\u001b[0m\u001b[32m'\u001b[0m:                                     \u001b[34m│\u001b[0m\n",
       "\u001b[34m│\u001b[0m \u001b[3;33mset_force_start\u001b[0m = \u001b[3;96mdef \u001b[0m\u001b[1;31mset_force_start\u001b[0m\u001b[1m(\u001b[0mself, do_force: \u001b[32m'bool'\u001b[0m\u001b[1m)\u001b[0m -> \u001b[32m'asyncio.Task\u001b[0m\u001b[32m[\u001b[0m\u001b[32mNone\u001b[0m\u001b[32m]\u001b[0m\u001b[32m'\u001b[0m:              \u001b[34m│\u001b[0m\n",
       "\u001b[34m│\u001b[0m    \u001b[3;33mset_username\u001b[0m = \u001b[3;96mdef \u001b[0m\u001b[1;31mset_username\u001b[0m\u001b[1m(\u001b[0mself\u001b[1m)\u001b[0m -> \u001b[32m'asyncio.Task\u001b[0m\u001b[32m[\u001b[0m\u001b[32mNone\u001b[0m\u001b[32m]\u001b[0m\u001b[32m'\u001b[0m:                                   \u001b[34m│\u001b[0m\n",
       "\u001b[34m│\u001b[0m  \u001b[3;33mstars_and_rank\u001b[0m = \u001b[3;96mdef \u001b[0m\u001b[1;31mstars_and_rank\u001b[0m\u001b[1m(\u001b[0mself\u001b[1m)\u001b[0m -> \u001b[32m'asyncio.Task\u001b[0m\u001b[32m[\u001b[0m\u001b[32mNone\u001b[0m\u001b[32m]\u001b[0m\u001b[32m'\u001b[0m:                                 \u001b[34m│\u001b[0m\n",
       "\u001b[34m│\u001b[0m       \u001b[3;33msurrender\u001b[0m = \u001b[3;96mdef \u001b[0m\u001b[1;31msurrender\u001b[0m\u001b[1m(\u001b[0mself\u001b[1m)\u001b[0m -> \u001b[32m'asyncio.Task\u001b[0m\u001b[32m[\u001b[0m\u001b[32mNone\u001b[0m\u001b[32m]\u001b[0m\u001b[32m'\u001b[0m:                                      \u001b[34m│\u001b[0m\n",
       "\u001b[34m╰─────────────────────────────────────────────────────────────────────────────────────────────────────╯\u001b[0m\n"
      ]
     },
     "metadata": {},
     "output_type": "display_data"
    }
   ],
   "source": [
    "from rich import inspect\n",
    "from glhf.base import BotProtocol, ClientProtocol\n",
    "\n",
    "inspect(BotProtocol, methods=True)\n",
    "inspect(ClientProtocol, methods=True)"
   ]
  },
  {
   "cell_type": "markdown",
   "metadata": {},
   "source": [
    "## WIP"
   ]
  }
 ],
 "metadata": {
  "kernelspec": {
   "display_name": ".venv",
   "language": "python",
   "name": "python3"
  },
  "language_info": {
   "codemirror_mode": {
    "name": "ipython",
    "version": 3
   },
   "file_extension": ".py",
   "mimetype": "text/x-python",
   "name": "python",
   "nbconvert_exporter": "python",
   "pygments_lexer": "ipython3",
   "version": "3.12.1"
  }
 },
 "nbformat": 4,
 "nbformat_minor": 2
}
